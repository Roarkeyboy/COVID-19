{
 "cells": [
  {
   "cell_type": "markdown",
   "metadata": {},
   "source": [
    "# CITS4403: Computational Modelling - Group Project\n",
    "## Corona Virus Outbreak - Dataset from Kaggle\n",
    "### By Jayden Kur, 21988713\n",
    "### Roarke, 21742366\n",
    "### Andrew, "
   ]
  },
  {
   "cell_type": "code",
   "execution_count": 3,
   "metadata": {},
   "outputs": [],
   "source": [
    "%matplotlib inline\n",
    "\n",
    "import matplotlib.pyplot as plt\n",
    "import networkx as nx\n",
    "import numpy as np\n",
    "import seaborn as sns\n",
    "\n",
    "#from utils import decorate, savefig\n",
    "\n",
    "# I set the random seed so the notebook \n",
    "# produces the same results every time.\n",
    "np.random.seed(17)\n",
    "\n",
    "# TODO: remove this when NetworkX is fixed\n",
    "from warnings import simplefilter\n",
    "import matplotlib.cbook\n",
    "simplefilter(\"ignore\", matplotlib.cbook.mplDeprecation)"
   ]
  },
  {
   "cell_type": "code",
   "execution_count": 16,
   "metadata": {},
   "outputs": [],
   "source": [
    "G = nx.MultiGraph()   # or MultiDiGraph\n",
    "nx.add_path(G, [0, 1, 2])\n",
    "key = G.add_edge(2, 3, weight=5)\n",
    "nx.add_path(G, [2,1,0])"
   ]
  },
  {
   "cell_type": "code",
   "execution_count": 32,
   "metadata": {},
   "outputs": [
    {
     "data": {
      "image/png": "[encoded data removed]",
      "text/plain": [
       "<Figure size 432x288 with 1 Axes>"
      ]
     },
     "metadata": {},
     "output_type": "display_data"
    }
   ],
   "source": [
    "attrs = {0: {'Cases': 20, 'Males': 1, 'Females': 1, 'Age Groups': 1}}\n",
    "nx.set_node_attributes(G, attrs)\n",
    "G.nodes[0]['Cases']\n",
    "nx.draw(G)"
   ]
  }
 ],
 "metadata": {
  "kernelspec": {
   "display_name": "Python 3",
   "language": "python",
   "name": "python3"
  },
  "language_info": {
   "codemirror_mode": {
    "name": "ipython",
    "version": 3
   },
   "file_extension": ".py",
   "mimetype": "text/x-python",
   "name": "python",
   "nbconvert_exporter": "python",
   "pygments_lexer": "ipython3",
   "version": "3.7.3"
  }
 },
 "nbformat": 4,
 "nbformat_minor": 2
}
